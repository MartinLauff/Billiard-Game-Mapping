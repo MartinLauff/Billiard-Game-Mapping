{
 "cells": [
  {
   "cell_type": "code",
   "execution_count": 1,
   "metadata": {},
   "outputs": [],
   "source": [
    "import os\n",
    "import random\n",
    "import shutil"
   ]
  },
  {
   "cell_type": "code",
   "execution_count": 2,
   "metadata": {},
   "outputs": [],
   "source": [
    "# Paths\n",
    "image_dir = \"corner_dataset\"\n",
    "train_dir = \"corner_dataset/images/train\"\n",
    "val_dir = \"corner_dataset/images/val\"\n",
    "test_dir = \"corner_dataset/images/test\""
   ]
  },
  {
   "cell_type": "code",
   "execution_count": 32,
   "metadata": {},
   "outputs": [],
   "source": [
    "# Create directories\n",
    "os.makedirs(train_dir, exist_ok=True)\n",
    "os.makedirs(val_dir, exist_ok=True)\n",
    "os.makedirs(test_dir, exist_ok=True)"
   ]
  },
  {
   "cell_type": "code",
   "execution_count": null,
   "metadata": {},
   "outputs": [],
   "source": [
    "# Get list of images\n",
    "all_images = [f for f in os.listdir(image_dir) if f.endswith((\".png\"))]\n",
    "random.shuffle(all_images)"
   ]
  },
  {
   "cell_type": "code",
   "execution_count": 34,
   "metadata": {},
   "outputs": [],
   "source": [
    "# Split dataset: 80% train, 10% val, 10% test\n",
    "num_train = int(0.8 * len(all_images))\n",
    "num_val = int(0.1 * len(all_images))"
   ]
  },
  {
   "cell_type": "code",
   "execution_count": 35,
   "metadata": {},
   "outputs": [],
   "source": [
    "train_images = all_images[:num_train]\n",
    "val_images = all_images[num_train:num_train + num_val]\n",
    "test_images = all_images[num_train + num_val:]"
   ]
  },
  {
   "cell_type": "code",
   "execution_count": 36,
   "metadata": {},
   "outputs": [
    {
     "name": "stdout",
     "output_type": "stream",
     "text": [
      "Dataset successfully split into train (80%), val (10%), and test (10%).\n"
     ]
    }
   ],
   "source": [
    "\n",
    "# Move images to respective folders\n",
    "for img in train_images:\n",
    "    shutil.move(os.path.join(image_dir, img), os.path.join(train_dir, img))\n",
    "\n",
    "for img in val_images:\n",
    "    shutil.move(os.path.join(image_dir, img), os.path.join(val_dir, img))\n",
    "\n",
    "for img in test_images:\n",
    "    shutil.move(os.path.join(image_dir, img), os.path.join(test_dir, img))\n",
    "\n",
    "print(\"Dataset successfully split into train (80%), val (10%), and test (10%).\")"
   ]
  },
  {
   "cell_type": "code",
   "execution_count": null,
   "metadata": {},
   "outputs": [],
   "source": []
  }
 ],
 "metadata": {
  "kernelspec": {
   "display_name": "base",
   "language": "python",
   "name": "python3"
  },
  "language_info": {
   "codemirror_mode": {
    "name": "ipython",
    "version": 3
   },
   "file_extension": ".py",
   "mimetype": "text/x-python",
   "name": "python",
   "nbconvert_exporter": "python",
   "pygments_lexer": "ipython3",
   "version": "3.12.2"
  }
 },
 "nbformat": 4,
 "nbformat_minor": 2
}
